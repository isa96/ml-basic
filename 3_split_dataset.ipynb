{
  "cells": [
    {
      "cell_type": "markdown",
      "metadata": {
        "id": "kzY_RkaeN868"
      },
      "source": [
        "Membagi dataset dengan fungsi train_test_split dari library sklearn.\n",
        "\n",
        "random_state digunakan untuk proses shuffling. Menentukan nilai random_state digunakan untuk memastikan bahwa dataset yang dibagikan adalah tetap/konsisten. Kalau tidak ditentukan nilai random_state maka data train dan data test yang kita dapatkan akan selalu berbeda setiap kali menjalankan proses split. Sehingga akurasi model algoritma ML akan berbeda setiap kali di-run.\n",
        "\n"
      ]
    },
    {
      "cell_type": "code",
      "execution_count": 3,
      "metadata": {
        "colab": {
          "base_uri": "https://localhost:8080/"
        },
        "id": "ZrxJIutVMCxm",
        "outputId": "4dbf8fe0-d503-40d3-a797-129ef8a61877"
      },
      "outputs": [
        {
          "name": "stdout",
          "output_type": "stream",
          "text": [
            "random_state ditentukan\n",
            "[8, 1, 5]\n",
            "[8, 1, 5]\n",
            "[8, 1, 5]\n",
            "random_state tidak ditentukan\n",
            "[4, 9, 1]\n",
            "[8, 6, 4]\n",
            "[6, 0, 4]\n"
          ]
        }
      ],
      "source": [
        "from sklearn.model_selection import train_test_split\n",
        " \n",
        "X_data = range(10)\n",
        "y_data = range(10)\n",
        " \n",
        "print(\"random_state ditentukan\")\n",
        "for i in range(3):\n",
        "    X_train, X_test, y_train, y_test = train_test_split(X_data, y_data, test_size = 0.3, random_state = 42)\n",
        "    print(y_test)\n",
        " \n",
        " \n",
        "print(\"random_state tidak ditentukan\")\n",
        "for i in range(3):\n",
        "    X_train, X_test, y_train, y_test = train_test_split(X_data, y_data, test_size = 0.3, random_state = None)\n",
        "    print(y_test)"
      ]
    }
  ],
  "metadata": {
    "colab": {
      "authorship_tag": "ABX9TyP1tFP8bHzlTEIFc5gNCrmL",
      "include_colab_link": true,
      "name": "3 split dataset.ipynb",
      "provenance": []
    },
    "kernelspec": {
      "display_name": "Python 3",
      "name": "python3"
    },
    "language_info": {
      "name": "python"
    }
  },
  "nbformat": 4,
  "nbformat_minor": 0
}
