{
  "cells": [
    {
      "cell_type": "code",
      "execution_count": 3,
      "metadata": {
        "colab": {
          "base_uri": "https://localhost:8080/"
        },
        "id": "xG0C_w8BwOm8",
        "outputId": "cf11ef5c-719d-42bc-d774-050b8e194f8e"
      },
      "outputs": [
        {
          "name": "stdout",
          "output_type": "stream",
          "text": [
            "Public Figure from Indonesia: \n",
            "                Name  Age\n",
            "0  Isyana Sarasvati   30\n",
            "1  Nicholas Saputra   36\n",
            "2    Raisa Andriana   32\n",
            "\n",
            "Split kolom 'Name', lalu tambahkan kedua kolom: \n",
            "                Name  Age     First       Last\n",
            "0  Isyana Sarasvati   30    Isyana  Sarasvati\n",
            "1  Nicholas Saputra   36  Nicholas    Saputra\n",
            "2    Raisa Andriana   32     Raisa   Andriana\n"
          ]
        }
      ],
      "source": [
        "import pandas as pd\n",
        "\n",
        "Artist = pd.DataFrame({'Name': ['Isyana Sarasvati', 'Nicholas Saputra', 'Raisa Andriana'],\n",
        "                          'Age': [30, 36, 32]})\n",
        "print(\"Public Figure from Indonesia: \\n\", Artist)\n",
        "\n",
        "Artist[['First', 'Last']] = Artist.Name.str.split(expand=True)\n",
        "print(\"\\nSplit kolom 'Name', lalu tambahkan kedua kolom: \\n\", Artist)"
      ]
    }
  ],
  "metadata": {
    "colab": {
      "authorship_tag": "ABX9TyNwTRQWd3hFRVdBAv9sfydb",
      "include_colab_link": true,
      "name": "13 Splitting Attribute.ipynb",
      "provenance": []
    },
    "kernelspec": {
      "display_name": "Python 3",
      "name": "python3"
    },
    "language_info": {
      "name": "python"
    }
  },
  "nbformat": 4,
  "nbformat_minor": 0
}
