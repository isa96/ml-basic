{
  "cells": [
    {
      "cell_type": "markdown",
      "metadata": {
        "id": "UPmp7TdvR-oG"
      },
      "source": [
        "library sklearn menyediakan dataset iris."
      ]
    },
    {
      "cell_type": "code",
      "execution_count": 8,
      "metadata": {
        "id": "VT1ojWgtR0P3"
      },
      "outputs": [],
      "source": [
        "import pandas as pd\n",
        "import sklearn\n",
        "from sklearn import datasets"
      ]
    },
    {
      "cell_type": "code",
      "execution_count": 10,
      "metadata": {
        "id": "tXv7AsSLSIVV"
      },
      "outputs": [],
      "source": [
        "# load iris dataset\n",
        "iris = datasets.load_iris()"
      ]
    },
    {
      "cell_type": "code",
      "execution_count": 12,
      "metadata": {
        "id": "K0dpriLASRet"
      },
      "outputs": [],
      "source": [
        "# pisahkan atribut dan label pada iris dataset\n",
        "x=iris.data\n",
        "y=iris.target"
      ]
    },
    {
      "cell_type": "markdown",
      "metadata": {
        "id": "KIAUEI7XThlT"
      },
      "source": [
        "fungsi train_test_split mengembalikan empat nilai yaitu atribut dari train set (x_train), atribut dari test set (x_test), target dari train set (y_train), dan atribut dari test set (y_test).\n",
        "\n",
        "test_size adalah presentase test set dari dataset keseluruhan."
      ]
    },
    {
      "cell_type": "code",
      "execution_count": 13,
      "metadata": {
        "id": "RU-h7tkXTh70"
      },
      "outputs": [],
      "source": [
        "from sklearn.model_selection import train_test_split\n",
        " \n",
        "# membagi dataset menjadi training dan testing \n",
        "x_train, x_test, y_train, y_test = train_test_split(x, y, test_size=0.2)"
      ]
    },
    {
      "cell_type": "markdown",
      "metadata": {
        "id": "t0bK8w1CUDqc"
      },
      "source": [
        "total data pada dataset iris adalah 150. maka, banyak data pada tes set adalah 20% dari 150 yaitu 30."
      ]
    },
    {
      "cell_type": "code",
      "execution_count": 14,
      "metadata": {
        "colab": {
          "base_uri": "https://localhost:8080/"
        },
        "id": "0l9AWPfFUD1F",
        "outputId": "700ba59a-49f6-4179-832d-27120dff7db0"
      },
      "outputs": [
        {
          "data": {
            "text/plain": [
              "30"
            ]
          },
          "execution_count": 14,
          "metadata": {},
          "output_type": "execute_result"
        }
      ],
      "source": [
        "# menghitung panjang/jumlah data pada x_test\n",
        "len(x_test)"
      ]
    }
  ],
  "metadata": {
    "colab": {
      "authorship_tag": "ABX9TyPE/yI9o0yY5/VtQwvucXgG",
      "include_colab_link": true,
      "name": "4 splitting iris dataset.ipynb",
      "provenance": []
    },
    "kernelspec": {
      "display_name": "Python 3",
      "name": "python3"
    },
    "language_info": {
      "name": "python"
    }
  },
  "nbformat": 4,
  "nbformat_minor": 0
}
