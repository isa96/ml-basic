{
  "cells": [
    {
      "cell_type": "code",
      "execution_count": 1,
      "metadata": {
        "id": "shBX5VZ-0p2Z"
      },
      "outputs": [],
      "source": [
        "import sklearn\n",
        "from sklearn import datasets\n",
        " \n",
        "# Load iris dataset\n",
        "iris = datasets.load_iris()"
      ]
    },
    {
      "cell_type": "markdown",
      "metadata": {
        "id": "6NktrEp-1Fx1"
      },
      "source": [
        "Memisahkan data atribut dan label"
      ]
    },
    {
      "cell_type": "code",
      "execution_count": 2,
      "metadata": {
        "id": "tt9i1Y5X1C30"
      },
      "outputs": [],
      "source": [
        "# mendefinisikan atribut dan label pada dataset\n",
        "x=iris.data\n",
        "y=iris.target"
      ]
    },
    {
      "cell_type": "code",
      "execution_count": 3,
      "metadata": {
        "id": "J3EqSmSi1Kbb"
      },
      "outputs": [],
      "source": [
        "from sklearn import tree\n",
        " \n",
        "# membuat model dengan decision tree ckassifier\n",
        "clf = tree.DecisionTreeClassifier()"
      ]
    },
    {
      "cell_type": "markdown",
      "metadata": {
        "id": "SSS-n3Lh1fNh"
      },
      "source": [
        "Parameter dari fungsi cross_val_score yaitu:\n",
        "clf --> model machine learning;\n",
        "\n",
        "x --> atribut data;\n",
        "\n",
        "y --> label data;\n",
        "\n",
        "cv --> banyaknya fold;"
      ]
    },
    {
      "cell_type": "code",
      "execution_count": 4,
      "metadata": {
        "id": "-UhgiDWG1eTV"
      },
      "outputs": [],
      "source": [
        "from sklearn.model_selection import cross_val_score\n",
        " \n",
        "# mengevaluasi performa model dengan cross_val_score\n",
        "scores = cross_val_score(clf, x, y, cv=5)"
      ]
    },
    {
      "cell_type": "markdown",
      "metadata": {
        "id": "PJFphi3u2DTl"
      },
      "source": [
        "Menampilkan hasil akurasi pengujian tiap fold."
      ]
    },
    {
      "cell_type": "code",
      "execution_count": 5,
      "metadata": {
        "colab": {
          "base_uri": "https://localhost:8080/"
        },
        "id": "ba3wIH0o1_Uo",
        "outputId": "4dd2eb95-6ee2-4423-b5fd-3f77313a398b"
      },
      "outputs": [
        {
          "data": {
            "text/plain": [
              "array([0.96666667, 0.96666667, 0.9       , 1.        , 1.        ])"
            ]
          },
          "execution_count": 5,
          "metadata": {},
          "output_type": "execute_result"
        }
      ],
      "source": [
        "scores"
      ]
    }
  ],
  "metadata": {
    "colab": {
      "authorship_tag": "ABX9TyOjA5I2g+561E/3PngJspfh",
      "include_colab_link": true,
      "name": "5 Cross Validation Split.ipynb",
      "provenance": []
    },
    "kernelspec": {
      "display_name": "Python 3",
      "name": "python3"
    },
    "language_info": {
      "name": "python"
    }
  },
  "nbformat": 4,
  "nbformat_minor": 0
}
